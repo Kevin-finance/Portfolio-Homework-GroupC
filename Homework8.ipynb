{
 "cells": [
  {
   "cell_type": "code",
   "execution_count": 1,
   "id": "22bb7ca5-4a65-4e4b-8b94-afc72ce1bc9d",
   "metadata": {},
   "outputs": [],
   "source": [
    "import pandas as pd\n",
    "import numpy as np\n",
    "from datetime import datetime\n",
    "import import_ipynb\n",
    "import PortfolioHelper"
   ]
  },
  {
   "cell_type": "code",
   "execution_count": 2,
   "id": "29d4ad04-554c-42a7-8412-4c70e6adde08",
   "metadata": {},
   "outputs": [],
   "source": [
    "ltcm_ret = pd.read_excel(\"./data/ltcm_exhibits_data.xlsx\",sheet_name= \"Exhibit 2\",skiprows=lambda x: x in np.arange(0,3),index_col=0).dropna()\n",
    "ltcm_ret.columns = ['Fund Capital','Gross Monthly Performance','Net Monthly Performance','Index of Net Performance']\n",
    "ltcm_lev = pd.read_excel(\"./data/ltcm_exhibits_data.xlsx\",sheet_name= \"Exhibit 4\",skiprows=lambda x: x in np.arange(0,2),index_col=0).dropna()\n",
    "rf = pd.read_excel(\"./data/gmo_analysis_data.xlsx\",sheet_name= \"risk-free rate\",index_col = 0)/12\n",
    "spy = pd.read_excel(\"./data/gmo_analysis_data.xlsx\",usecols = \"A:B\",sheet_name= \"total returns\",index_col = 0)"
   ]
  },
  {
   "cell_type": "markdown",
   "id": "a1cb7aa2-c6aa-4810-86af-e8a60cbd125b",
   "metadata": {},
   "source": [
    "2.1"
   ]
  },
  {
   "cell_type": "code",
   "execution_count": 4,
   "id": "bceea821-60ad-48ec-91a0-133c7864afa0",
   "metadata": {},
   "outputs": [],
   "source": [
    "ltcm_ret.index = ltcm_ret.index.map(lambda x: pd.to_datetime(x)).to_period(\"M\")\n",
    "ltcm_lev.index = ltcm_lev.index.map(lambda x: pd.to_datetime(x)).to_period(\"M\")\n",
    "\n",
    "rf.index = rf.index.to_period(\"M\")\n",
    "spy.index = spy.index.to_period(\"M\")\n",
    "\n",
    "rf = rf.loc[(ltcm_ret.index[0]<=rf.index) & (rf.index<=ltcm_ret.index[-1])]\n",
    "spy = spy.loc[(ltcm_ret.index[0]<=spy.index) & (spy.index<=ltcm_ret.index[-1])]\n"
   ]
  },
  {
   "cell_type": "code",
   "execution_count": 77,
   "id": "d71236fc-1b3f-4984-9d39-4aeba8d9cb0d",
   "metadata": {},
   "outputs": [
    {
     "data": {
      "text/plain": [
       "Period('1998-07', 'M')"
      ]
     },
     "execution_count": 77,
     "metadata": {},
     "output_type": "execute_result"
    }
   ],
   "source": [
    "ltcm_ret.index[-1]\n",
    "# cumulate returns"
   ]
  },
  {
   "cell_type": "code",
   "execution_count": 5,
   "id": "40b0cdc1-01ab-44dc-a989-1606753e9a9d",
   "metadata": {},
   "outputs": [],
   "source": [
    "ltcm_eret = ltcm_ret.copy()\n",
    "ltcm_eret[['Gross Monthly Performance','Net Monthly Performance']] = ltcm_eret[['Gross Monthly Performance','Net Monthly Performance']].apply(lambda x:x-rf['TBill 3M'])\n",
    "\n",
    "espy = spy.copy()\n",
    "espy = (espy['SPY']-rf['TBill 3M']).to_frame(name='SPY')"
   ]
  },
  {
   "cell_type": "code",
   "execution_count": null,
   "id": "c79562e3-f72d-44fd-ba2f-9dd2c7b6076d",
   "metadata": {},
   "outputs": [],
   "source": []
  },
  {
   "cell_type": "code",
   "execution_count": 6,
   "id": "49188583-2cce-4933-8306-4c4882f3f72b",
   "metadata": {},
   "outputs": [
    {
     "data": {
      "text/html": [
       "<div>\n",
       "<style scoped>\n",
       "    .dataframe tbody tr th:only-of-type {\n",
       "        vertical-align: middle;\n",
       "    }\n",
       "\n",
       "    .dataframe tbody tr th {\n",
       "        vertical-align: top;\n",
       "    }\n",
       "\n",
       "    .dataframe thead th {\n",
       "        text-align: right;\n",
       "    }\n",
       "</style>\n",
       "<table border=\"1\" class=\"dataframe\">\n",
       "  <thead>\n",
       "    <tr style=\"text-align: right;\">\n",
       "      <th></th>\n",
       "      <th>Mean</th>\n",
       "      <th>Volatility</th>\n",
       "      <th>Sharpe Ratio</th>\n",
       "      <th>Skewness</th>\n",
       "      <th>Excess Kurtosis</th>\n",
       "      <th>VaR (0.05)</th>\n",
       "      <th>CVaR (0.05)</th>\n",
       "      <th>Min</th>\n",
       "      <th>Max</th>\n",
       "      <th>Max Drawdown</th>\n",
       "      <th>Peak</th>\n",
       "      <th>Bottom</th>\n",
       "      <th>Recovery</th>\n",
       "    </tr>\n",
       "  </thead>\n",
       "  <tbody>\n",
       "    <tr>\n",
       "      <th>Gross Monthly Performance</th>\n",
       "      <td>0.243347</td>\n",
       "      <td>0.136271</td>\n",
       "      <td>1.785754</td>\n",
       "      <td>-0.289726</td>\n",
       "      <td>1.579963</td>\n",
       "      <td>-0.030368</td>\n",
       "      <td>-0.072964</td>\n",
       "      <td>-0.105133</td>\n",
       "      <td>0.112267</td>\n",
       "      <td>-0.168803</td>\n",
       "      <td>1998-04</td>\n",
       "      <td>1998-06</td>\n",
       "      <td>NaT</td>\n",
       "    </tr>\n",
       "    <tr>\n",
       "      <th>Net Monthly Performance</th>\n",
       "      <td>0.156630</td>\n",
       "      <td>0.111808</td>\n",
       "      <td>1.400890</td>\n",
       "      <td>-0.811719</td>\n",
       "      <td>2.917247</td>\n",
       "      <td>-0.026388</td>\n",
       "      <td>-0.068631</td>\n",
       "      <td>-0.105133</td>\n",
       "      <td>0.080267</td>\n",
       "      <td>-0.175433</td>\n",
       "      <td>1997-12</td>\n",
       "      <td>1998-07</td>\n",
       "      <td>NaT</td>\n",
       "    </tr>\n",
       "    <tr>\n",
       "      <th>SPY</th>\n",
       "      <td>0.175249</td>\n",
       "      <td>0.112696</td>\n",
       "      <td>1.555053</td>\n",
       "      <td>-0.432539</td>\n",
       "      <td>-0.358694</td>\n",
       "      <td>-0.046639</td>\n",
       "      <td>-0.051699</td>\n",
       "      <td>-0.055928</td>\n",
       "      <td>0.074980</td>\n",
       "      <td>-0.055928</td>\n",
       "      <td>1997-07</td>\n",
       "      <td>1997-08</td>\n",
       "      <td>1997-12</td>\n",
       "    </tr>\n",
       "  </tbody>\n",
       "</table>\n",
       "</div>"
      ],
      "text/plain": [
       "                               Mean  Volatility  Sharpe Ratio  Skewness  \\\n",
       "Gross Monthly Performance  0.243347    0.136271      1.785754 -0.289726   \n",
       "Net Monthly Performance    0.156630    0.111808      1.400890 -0.811719   \n",
       "SPY                        0.175249    0.112696      1.555053 -0.432539   \n",
       "\n",
       "                           Excess Kurtosis  VaR (0.05)  CVaR (0.05)       Min  \\\n",
       "Gross Monthly Performance         1.579963   -0.030368    -0.072964 -0.105133   \n",
       "Net Monthly Performance           2.917247   -0.026388    -0.068631 -0.105133   \n",
       "SPY                              -0.358694   -0.046639    -0.051699 -0.055928   \n",
       "\n",
       "                                Max  Max Drawdown     Peak   Bottom Recovery  \n",
       "Gross Monthly Performance  0.112267     -0.168803  1998-04  1998-06      NaT  \n",
       "Net Monthly Performance    0.080267     -0.175433  1997-12  1998-07      NaT  \n",
       "SPY                        0.074980     -0.055928  1997-07  1997-08  1997-12  "
      ]
     },
     "execution_count": 6,
     "metadata": {},
     "output_type": "execute_result"
    }
   ],
   "source": [
    "ltcm_perf = PortfolioHelper.performance_summary(ltcm_eret[['Gross Monthly Performance', 'Net Monthly Performance']])\n",
    "spy_perf = PortfolioHelper.performance_summary(espy)\n",
    "total_perf = pd.concat([ltcm_perf,spy_perf],axis=0)\n",
    "total_perf"
   ]
  },
  {
   "cell_type": "markdown",
   "id": "19d97b4c-1e12-400f-bea6-bacae6b0c7d5",
   "metadata": {},
   "source": [
    "Gross and net monthly performance show similar Sharpe ratio compared to the market and slightly better VaR level but they were exposed to greater CvaR risk meaning that they exposed themselves to greater tail risk as can be seen in maximum drawdown as well."
   ]
  },
  {
   "cell_type": "markdown",
   "id": "49e9b4c1-a65e-40d7-86a3-7b9111f192d6",
   "metadata": {},
   "source": [
    "2.2"
   ]
  },
  {
   "cell_type": "code",
   "execution_count": 9,
   "id": "902da94d-25c9-4b8b-b734-79e51354ab9f",
   "metadata": {},
   "outputs": [
    {
     "name": "stderr",
     "output_type": "stream",
     "text": [
      "<string>:49: FutureWarning: Series.__getitem__ treating keys as positions is deprecated. In a future version, integer keys will always be treated as labels (consistent with DataFrame behavior). To access a value by position, use `ser.iloc[pos]`\n",
      "<string>:55: FutureWarning: Series.__getitem__ treating keys as positions is deprecated. In a future version, integer keys will always be treated as labels (consistent with DataFrame behavior). To access a value by position, use `ser.iloc[pos]`\n"
     ]
    },
    {
     "data": {
      "text/html": [
       "<div>\n",
       "<style scoped>\n",
       "    .dataframe tbody tr th:only-of-type {\n",
       "        vertical-align: middle;\n",
       "    }\n",
       "\n",
       "    .dataframe tbody tr th {\n",
       "        vertical-align: top;\n",
       "    }\n",
       "\n",
       "    .dataframe thead th {\n",
       "        text-align: right;\n",
       "    }\n",
       "</style>\n",
       "<table border=\"1\" class=\"dataframe\">\n",
       "  <thead>\n",
       "    <tr style=\"text-align: right;\">\n",
       "      <th></th>\n",
       "      <th>alpha_hat</th>\n",
       "      <th>beta_mkt</th>\n",
       "      <th>info_ratio</th>\n",
       "      <th>treynor_ratio</th>\n",
       "      <th>R-squared</th>\n",
       "      <th>Tracking Error</th>\n",
       "    </tr>\n",
       "  </thead>\n",
       "  <tbody>\n",
       "    <tr>\n",
       "      <th>Net Monthly Performance</th>\n",
       "      <td>0.132603</td>\n",
       "      <td>0.137101</td>\n",
       "      <td>1.197485</td>\n",
       "      <td>1.142446</td>\n",
       "      <td>0.019097</td>\n",
       "      <td>0.110735</td>\n",
       "    </tr>\n",
       "  </tbody>\n",
       "</table>\n",
       "</div>"
      ],
      "text/plain": [
       "                         alpha_hat  beta_mkt  info_ratio  treynor_ratio  \\\n",
       "Net Monthly Performance   0.132603  0.137101    1.197485       1.142446   \n",
       "\n",
       "                         R-squared  Tracking Error  \n",
       "Net Monthly Performance   0.019097        0.110735  "
      ]
     },
     "execution_count": 9,
     "metadata": {},
     "output_type": "execute_result"
    }
   ],
   "source": [
    "ltcm_ts_regr = PortfolioHelper.time_series_regression(ltcm_eret[['Net Monthly Performance']],factors= espy[['SPY']])\n",
    "ltcm_ts_regr"
   ]
  },
  {
   "cell_type": "markdown",
   "id": "09a999bf-ec9e-413f-9c98-c4e1b3243b7f",
   "metadata": {},
   "source": [
    "b) LTCM doesn't appear to be a close indexer as can see in low r-squared which is closer to only 2%. \n",
    "\n",
    "c) LTCM do deliver excess return over what can be explained my exposure to market, positive alpha is the strong evidence to it."
   ]
  },
  {
   "cell_type": "markdown",
   "id": "87d701ab-c129-4169-ae05-070dee9b443e",
   "metadata": {},
   "source": [
    "2.3"
   ]
  },
  {
   "cell_type": "code",
   "execution_count": 12,
   "id": "a96d5b4d-32c8-4b6e-89c5-df19690ea9ee",
   "metadata": {},
   "outputs": [
    {
     "name": "stderr",
     "output_type": "stream",
     "text": [
      "<string>:206: FutureWarning: Series.__getitem__ treating keys as positions is deprecated. In a future version, integer keys will always be treated as labels (consistent with DataFrame behavior). To access a value by position, use `ser.iloc[pos]`\n"
     ]
    },
    {
     "data": {
      "text/html": [
       "<div>\n",
       "<style scoped>\n",
       "    .dataframe tbody tr th:only-of-type {\n",
       "        vertical-align: middle;\n",
       "    }\n",
       "\n",
       "    .dataframe tbody tr th {\n",
       "        vertical-align: top;\n",
       "    }\n",
       "\n",
       "    .dataframe thead th {\n",
       "        text-align: right;\n",
       "    }\n",
       "</style>\n",
       "<table border=\"1\" class=\"dataframe\">\n",
       "  <thead>\n",
       "    <tr style=\"text-align: right;\">\n",
       "      <th></th>\n",
       "      <th>Alpha</th>\n",
       "      <th>R-Squared</th>\n",
       "      <th>SPY Beta</th>\n",
       "      <th>SPY^2 Beta</th>\n",
       "      <th>Information Ratio</th>\n",
       "      <th>Tracking Error</th>\n",
       "    </tr>\n",
       "  </thead>\n",
       "  <tbody>\n",
       "    <tr>\n",
       "      <th>Net Monthly Performance</th>\n",
       "      <td>0.156279</td>\n",
       "      <td>0.024539</td>\n",
       "      <td>0.167321</td>\n",
       "      <td>-1.928874</td>\n",
       "      <td>1.415224</td>\n",
       "      <td>0.110427</td>\n",
       "    </tr>\n",
       "  </tbody>\n",
       "</table>\n",
       "</div>"
      ],
      "text/plain": [
       "                            Alpha  R-Squared  SPY Beta  SPY^2 Beta  \\\n",
       "Net Monthly Performance  0.156279   0.024539  0.167321   -1.928874   \n",
       "\n",
       "                         Information Ratio  Tracking Error  \n",
       "Net Monthly Performance           1.415224        0.110427  "
      ]
     },
     "execution_count": 12,
     "metadata": {},
     "output_type": "execute_result"
    }
   ],
   "source": [
    "regressors = pd.concat([espy['SPY'],espy[['SPY']].apply(lambda x: x**2)],axis=1)\n",
    "regressors.columns = ['SPY','SPY^2']\n",
    "ltcm_ts_nl_regr = PortfolioHelper.calc_multivariate_regression(ltcm_eret[['Net Monthly Performance']],regressors)\n",
    "ltcm_ts_nl_regr"
   ]
  },
  {
   "cell_type": "markdown",
   "id": "049642d5-d0e6-411b-8936-d5fcfef933a3",
   "metadata": {},
   "source": [
    "b) Quadratic part which attempts to capture nonlinear exposure to market doesn't add much value to the r^2. R^2 only incresed from around 2% to 2.5%\n",
    "\n",
    "c) If we were to claim its similar to long market option then we should see high beta to the market and r^2 which regression statistics doesn't support. Moreover graph plotting its monthly return shows that is closer to short market options\n",
    "\n",
    "d) LTCM should be regarded as negatively exposed to market volatility as it was vol seller and the graph below describing its returns on rolling standard deviation supports it "
   ]
  },
  {
   "cell_type": "code",
   "execution_count": 14,
   "id": "e6e88f51-7cd8-4974-8e93-bb572f758cda",
   "metadata": {},
   "outputs": [
    {
     "data": {
      "text/plain": [
       "array([[1.        , 0.13819062],\n",
       "       [0.13819062, 1.        ]])"
      ]
     },
     "execution_count": 14,
     "metadata": {},
     "output_type": "execute_result"
    }
   ],
   "source": [
    "np.corrcoef(espy['SPY'],ltcm_eret['Net Monthly Performance'])"
   ]
  },
  {
   "cell_type": "code",
   "execution_count": 15,
   "id": "e6472fc5-7900-4de8-9d0e-89e354b33ce2",
   "metadata": {},
   "outputs": [
    {
     "data": {
      "text/plain": [
       "<matplotlib.legend.Legend at 0x2236146e0f0>"
      ]
     },
     "execution_count": 15,
     "metadata": {},
     "output_type": "execute_result"
    },
    {
     "data": {
      "image/png": "[encoded data removed]",
      "text/plain": [
       "<Figure size 640x480 with 1 Axes>"
      ]
     },
     "metadata": {},
     "output_type": "display_data"
    }
   ],
   "source": [
    "import matplotlib.pyplot as plt \n",
    "plt.plot(ltcm_eret.index.astype(str),ltcm_eret['Net Monthly Performance'],label = 'ltcm net')\n",
    "plt.plot(espy.index.astype(str),espy['SPY'],label = 'market')\n",
    "plt.xticks(rotation=45)\n",
    "plt.grid(True)\n",
    "plt.legend(loc=0)"
   ]
  },
  {
   "cell_type": "code",
   "execution_count": 16,
   "id": "9c7c8c05-caa9-4a89-9a97-10e47a0324e7",
   "metadata": {},
   "outputs": [
    {
     "data": {
      "text/plain": [
       "<matplotlib.legend.Legend at 0x223620e4260>"
      ]
     },
     "execution_count": 16,
     "metadata": {},
     "output_type": "execute_result"
    },
    {
     "data": {
      "image/png": "[encoded data removed]",
      "text/plain": [
       "<Figure size 640x480 with 1 Axes>"
      ]
     },
     "metadata": {},
     "output_type": "display_data"
    }
   ],
   "source": [
    "plt.plot(ltcm_eret.index.astype(str),ltcm_eret['Net Monthly Performance'],label = 'ltcm net')\n",
    "plt.plot(espy.index.astype(str),espy['SPY'].rolling(5).std(),label = 'rolling 5mo std')\n",
    "plt.plot(espy.index.astype(str),espy['SPY'].rolling(10).std(),label = 'rolling 10mo std')\n",
    "plt.plot(espy.index.astype(str),espy['SPY'].rolling(20).std(),label = 'rolling 20mo std')\n",
    "plt.grid(True)\n",
    "plt.legend(loc=0)"
   ]
  },
  {
   "cell_type": "markdown",
   "id": "ff6e722b-2411-489e-bbbe-064e5dbc4c4a",
   "metadata": {},
   "source": [
    "2.4"
   ]
  },
  {
   "cell_type": "code",
   "execution_count": 18,
   "id": "0aeaac57-9dbd-462c-a25b-d32237aa751f",
   "metadata": {},
   "outputs": [
    {
     "name": "stderr",
     "output_type": "stream",
     "text": [
      "<string>:206: FutureWarning: Series.__getitem__ treating keys as positions is deprecated. In a future version, integer keys will always be treated as labels (consistent with DataFrame behavior). To access a value by position, use `ser.iloc[pos]`\n"
     ]
    },
    {
     "data": {
      "text/html": [
       "<div>\n",
       "<style scoped>\n",
       "    .dataframe tbody tr th:only-of-type {\n",
       "        vertical-align: middle;\n",
       "    }\n",
       "\n",
       "    .dataframe tbody tr th {\n",
       "        vertical-align: top;\n",
       "    }\n",
       "\n",
       "    .dataframe thead th {\n",
       "        text-align: right;\n",
       "    }\n",
       "</style>\n",
       "<table border=\"1\" class=\"dataframe\">\n",
       "  <thead>\n",
       "    <tr style=\"text-align: right;\">\n",
       "      <th></th>\n",
       "      <th>Alpha</th>\n",
       "      <th>R-Squared</th>\n",
       "      <th>Call-like Beta</th>\n",
       "      <th>Put-like Beta</th>\n",
       "      <th>Information Ratio</th>\n",
       "      <th>Tracking Error</th>\n",
       "    </tr>\n",
       "  </thead>\n",
       "  <tbody>\n",
       "    <tr>\n",
       "      <th>Net Monthly Performance</th>\n",
       "      <td>0.157025</td>\n",
       "      <td>0.000635</td>\n",
       "      <td>0.030535</td>\n",
       "      <td>-0.118904</td>\n",
       "      <td>1.404869</td>\n",
       "      <td>0.111772</td>\n",
       "    </tr>\n",
       "  </tbody>\n",
       "</table>\n",
       "</div>"
      ],
      "text/plain": [
       "                            Alpha  R-Squared  Call-like Beta  Put-like Beta  \\\n",
       "Net Monthly Performance  0.157025   0.000635        0.030535      -0.118904   \n",
       "\n",
       "                         Information Ratio  Tracking Error  \n",
       "Net Monthly Performance           1.404869        0.111772  "
      ]
     },
     "execution_count": 18,
     "metadata": {},
     "output_type": "execute_result"
    }
   ],
   "source": [
    "option_factors = pd.concat([espy['SPY'].apply(lambda x: max(x-0.03,0)),espy['SPY'].apply(lambda x: max(-0.03-x,0))],axis=1)\n",
    "option_factors.columns = ['Call-like','Put-like']\n",
    "option_regr = PortfolioHelper.calc_multivariate_regression(ltcm_eret[['Net Monthly Performance']],option_factors)\n",
    "option_regr"
   ]
  },
  {
   "cell_type": "markdown",
   "id": "8f1c005b-5e4f-4e82-8ec9-4f4837790249",
   "metadata": {},
   "source": [
    "b) LTCM is closer to selling call-like factor as the return is positive covariation with call like beta. Under uptrend market condition volatiliy tends to decrease which is a favorable condition for volatility sellers.\n",
    "\n",
    "c) Put-like factor moves LTCM more as it has 4times bigger coefficient(we can interpret in this way since the scale is the same). Intrepreting this, under distressed financial condition where volatiliy tends to spike, volatility sellers suffer huge losses.\n",
    "\n",
    "d) LTCM is negatively exposed to volatiliy and is similar to short straddle position this can also be seen as long market and short downside at the same time."
   ]
  },
  {
   "cell_type": "markdown",
   "id": "80e33baa-7d78-44f6-9cd6-8d9532d8563e",
   "metadata": {},
   "source": [
    "3."
   ]
  },
  {
   "cell_type": "code",
   "execution_count": 81,
   "id": "7e8dbba8-0477-4e8a-874a-52155bc447fd",
   "metadata": {},
   "outputs": [],
   "source": [
    "rfr = pd.read_excel(\"./data/fx_rf_data.xlsx\",sheet_name= \"risk-free rates\",index_col = 0).apply(lambda x: np.log(1+x)/252) # annualized \n",
    "exchange_rates = pd.read_excel(\"./data/fx_rf_data.xlsx\",sheet_name= \"exchange rates\",index_col = 0).apply(lambda x: np.log(x)).ffill()\n",
    "\n"
   ]
  },
  {
   "cell_type": "markdown",
   "id": "ac490941-1db5-43dc-9ef7-bb17f179d55b",
   "metadata": {},
   "source": [
    "3.1 Static Carry Trade"
   ]
  },
  {
   "cell_type": "code",
   "execution_count": 83,
   "id": "71e73dc9-0913-459a-8465-5d282fffde07",
   "metadata": {},
   "outputs": [
    {
     "data": {
      "text/html": [
       "<div>\n",
       "<style scoped>\n",
       "    .dataframe tbody tr th:only-of-type {\n",
       "        vertical-align: middle;\n",
       "    }\n",
       "\n",
       "    .dataframe tbody tr th {\n",
       "        vertical-align: top;\n",
       "    }\n",
       "\n",
       "    .dataframe thead th {\n",
       "        text-align: right;\n",
       "    }\n",
       "</style>\n",
       "<table border=\"1\" class=\"dataframe\">\n",
       "  <thead>\n",
       "    <tr style=\"text-align: right;\">\n",
       "      <th></th>\n",
       "      <th>Mean</th>\n",
       "      <th>Volatility</th>\n",
       "      <th>Sharpe Ratio</th>\n",
       "      <th>Skewness</th>\n",
       "      <th>Excess Kurtosis</th>\n",
       "      <th>VaR (0.05)</th>\n",
       "      <th>CVaR (0.05)</th>\n",
       "      <th>Min</th>\n",
       "      <th>Max</th>\n",
       "      <th>Max Drawdown</th>\n",
       "      <th>Peak</th>\n",
       "      <th>Bottom</th>\n",
       "      <th>Recovery</th>\n",
       "    </tr>\n",
       "  </thead>\n",
       "  <tbody>\n",
       "    <tr>\n",
       "      <th>CHF</th>\n",
       "      <td>0.002654</td>\n",
       "      <td>0.106870</td>\n",
       "      <td>0.024837</td>\n",
       "      <td>5.134798</td>\n",
       "      <td>169.528298</td>\n",
       "      <td>-0.009193</td>\n",
       "      <td>-0.013353</td>\n",
       "      <td>-0.090926</td>\n",
       "      <td>0.194949</td>\n",
       "      <td>-0.418179</td>\n",
       "      <td>2011-08-09</td>\n",
       "      <td>2022-11-03</td>\n",
       "      <td>NaT</td>\n",
       "    </tr>\n",
       "    <tr>\n",
       "      <th>EUR</th>\n",
       "      <td>-0.023540</td>\n",
       "      <td>0.090053</td>\n",
       "      <td>-0.261398</td>\n",
       "      <td>0.108585</td>\n",
       "      <td>2.361478</td>\n",
       "      <td>-0.008957</td>\n",
       "      <td>-0.012918</td>\n",
       "      <td>-0.024266</td>\n",
       "      <td>0.034517</td>\n",
       "      <td>-0.481911</td>\n",
       "      <td>2008-04-22</td>\n",
       "      <td>2022-09-27</td>\n",
       "      <td>NaT</td>\n",
       "    </tr>\n",
       "    <tr>\n",
       "      <th>GBP</th>\n",
       "      <td>-0.024848</td>\n",
       "      <td>0.095667</td>\n",
       "      <td>-0.259732</td>\n",
       "      <td>-0.830625</td>\n",
       "      <td>11.313299</td>\n",
       "      <td>-0.009312</td>\n",
       "      <td>-0.014026</td>\n",
       "      <td>-0.083953</td>\n",
       "      <td>0.030998</td>\n",
       "      <td>-0.509594</td>\n",
       "      <td>2008-03-13</td>\n",
       "      <td>2022-09-26</td>\n",
       "      <td>NaT</td>\n",
       "    </tr>\n",
       "    <tr>\n",
       "      <th>JPY</th>\n",
       "      <td>-0.029353</td>\n",
       "      <td>0.099113</td>\n",
       "      <td>-0.296154</td>\n",
       "      <td>0.115773</td>\n",
       "      <td>5.355791</td>\n",
       "      <td>-0.009561</td>\n",
       "      <td>-0.014237</td>\n",
       "      <td>-0.054782</td>\n",
       "      <td>0.038371</td>\n",
       "      <td>-0.623242</td>\n",
       "      <td>2011-10-28</td>\n",
       "      <td>2024-07-10</td>\n",
       "      <td>NaT</td>\n",
       "    </tr>\n",
       "    <tr>\n",
       "      <th>MXN</th>\n",
       "      <td>0.011130</td>\n",
       "      <td>0.129950</td>\n",
       "      <td>0.085649</td>\n",
       "      <td>-0.703794</td>\n",
       "      <td>7.804878</td>\n",
       "      <td>-0.012716</td>\n",
       "      <td>-0.019643</td>\n",
       "      <td>-0.079347</td>\n",
       "      <td>0.066751</td>\n",
       "      <td>-0.414436</td>\n",
       "      <td>2008-08-04</td>\n",
       "      <td>2017-01-19</td>\n",
       "      <td>2023-06-09</td>\n",
       "    </tr>\n",
       "  </tbody>\n",
       "</table>\n",
       "</div>"
      ],
      "text/plain": [
       "         Mean  Volatility  Sharpe Ratio  Skewness  Excess Kurtosis  \\\n",
       "CHF  0.002654    0.106870      0.024837  5.134798       169.528298   \n",
       "EUR -0.023540    0.090053     -0.261398  0.108585         2.361478   \n",
       "GBP -0.024848    0.095667     -0.259732 -0.830625        11.313299   \n",
       "JPY -0.029353    0.099113     -0.296154  0.115773         5.355791   \n",
       "MXN  0.011130    0.129950      0.085649 -0.703794         7.804878   \n",
       "\n",
       "     VaR (0.05)  CVaR (0.05)       Min       Max  Max Drawdown       Peak  \\\n",
       "CHF   -0.009193    -0.013353 -0.090926  0.194949     -0.418179 2011-08-09   \n",
       "EUR   -0.008957    -0.012918 -0.024266  0.034517     -0.481911 2008-04-22   \n",
       "GBP   -0.009312    -0.014026 -0.083953  0.030998     -0.509594 2008-03-13   \n",
       "JPY   -0.009561    -0.014237 -0.054782  0.038371     -0.623242 2011-10-28   \n",
       "MXN   -0.012716    -0.019643 -0.079347  0.066751     -0.414436 2008-08-04   \n",
       "\n",
       "        Bottom   Recovery  \n",
       "CHF 2022-11-03        NaT  \n",
       "EUR 2022-09-27        NaT  \n",
       "GBP 2022-09-26        NaT  \n",
       "JPY 2024-07-10        NaT  \n",
       "MXN 2017-01-19 2023-06-09  "
      ]
     },
     "execution_count": 83,
     "metadata": {},
     "output_type": "execute_result"
    }
   ],
   "source": [
    "elog_ret = (exchange_rates.diff()+ rfr[rfr.columns.difference(['USD'])].shift(1)).apply(lambda x: x-rfr['USD'].shift(1)).dropna()\n",
    "PortfolioHelper.performance_summary(elog_ret,annualization=252)"
   ]
  },
  {
   "cell_type": "markdown",
   "id": "bc1c357d-127b-4f22-bc2c-f2336ec12930",
   "metadata": {},
   "source": [
    "An FX Carry trade on CHF and MXN generates positive mean excess return for the sample period and thus, positive sharpe. For the other 3, they all have negative mean and sharpe ratio"
   ]
  },
  {
   "cell_type": "markdown",
   "id": "b1efc76b-18f9-4d53-8274-429a29f5618d",
   "metadata": {},
   "source": [
    "3.2 Implications for UIP"
   ]
  },
  {
   "cell_type": "markdown",
   "id": "3735abfb-a395-4c12-8f3f-613b943ee1dc",
   "metadata": {},
   "source": [
    "1. No single mean of above analysis shows mean return that is 0 thus, UIP doesn't hold.\n",
    "\n",
    "2. Long position in MXN peso yield the best Sharpe ratio over the sample, slightly over 0.1 Sharpe.\n",
    "\n",
    "3. EUR, GBP, JPY earned a negative excess return over the sample."
   ]
  },
  {
   "cell_type": "markdown",
   "id": "6d35fe36-999c-4cc4-a511-58cb0ed4cbea",
   "metadata": {},
   "source": [
    "3.3 Predicting FX"
   ]
  },
  {
   "cell_type": "code",
   "execution_count": 36,
   "id": "d6ec6d53-6a22-4b5b-8ce3-1945ea2c2eab",
   "metadata": {},
   "outputs": [],
   "source": [
    "erfr = rfr.apply(lambda x: rfr['USD']-x)"
   ]
  },
  {
   "cell_type": "code",
   "execution_count": 38,
   "id": "5fd027e4-f6a4-4884-b7c5-da0619328e19",
   "metadata": {},
   "outputs": [],
   "source": [
    "forecast_df = pd.DataFrame()\n",
    "\n",
    "for i in exchange_rates.columns:\n",
    "    # print(i)\n",
    "    forecast_regr = PortfolioHelper.calc_univariate_regression(exchange_rates.loc[:,i].diff().dropna(),erfr.loc[:,i].shift(1).iloc[1:])\n",
    "    forecast_df = pd.concat([forecast_df,forecast_regr],axis=0)"
   ]
  },
  {
   "cell_type": "code",
   "execution_count": 39,
   "id": "c033af52-a8ce-4d55-9054-5e3fb598f3d8",
   "metadata": {},
   "outputs": [
    {
     "data": {
      "text/html": [
       "<div>\n",
       "<style scoped>\n",
       "    .dataframe tbody tr th:only-of-type {\n",
       "        vertical-align: middle;\n",
       "    }\n",
       "\n",
       "    .dataframe tbody tr th {\n",
       "        vertical-align: top;\n",
       "    }\n",
       "\n",
       "    .dataframe thead th {\n",
       "        text-align: right;\n",
       "    }\n",
       "</style>\n",
       "<table border=\"1\" class=\"dataframe\">\n",
       "  <thead>\n",
       "    <tr style=\"text-align: right;\">\n",
       "      <th></th>\n",
       "      <th>JPY</th>\n",
       "      <th>EUR</th>\n",
       "      <th>GBP</th>\n",
       "      <th>MXN</th>\n",
       "      <th>CHF</th>\n",
       "    </tr>\n",
       "  </thead>\n",
       "  <tbody>\n",
       "    <tr>\n",
       "      <th>Alpha</th>\n",
       "      <td>-0.001042</td>\n",
       "      <td>-0.001501</td>\n",
       "      <td>-0.001201</td>\n",
       "      <td>-0.003478</td>\n",
       "      <td>0.000176</td>\n",
       "    </tr>\n",
       "    <tr>\n",
       "      <th>Beta</th>\n",
       "      <td>0.351755</td>\n",
       "      <td>2.160192</td>\n",
       "      <td>6.810272</td>\n",
       "      <td>-0.794273</td>\n",
       "      <td>0.906945</td>\n",
       "    </tr>\n",
       "    <tr>\n",
       "      <th>R-Squared</th>\n",
       "      <td>0.000013</td>\n",
       "      <td>0.000298</td>\n",
       "      <td>0.001537</td>\n",
       "      <td>0.000020</td>\n",
       "      <td>0.000050</td>\n",
       "    </tr>\n",
       "  </tbody>\n",
       "</table>\n",
       "</div>"
      ],
      "text/plain": [
       "                JPY       EUR       GBP       MXN       CHF\n",
       "Alpha     -0.001042 -0.001501 -0.001201 -0.003478  0.000176\n",
       "Beta       0.351755  2.160192  6.810272 -0.794273  0.906945\n",
       "R-Squared  0.000013  0.000298  0.001537  0.000020  0.000050"
      ]
     },
     "execution_count": 39,
     "metadata": {},
     "output_type": "execute_result"
    }
   ],
   "source": [
    "forecast_df = forecast_df.filter(items =['Alpha','Beta','R-Squared']).T\n",
    "forecast_df"
   ]
  },
  {
   "cell_type": "code",
   "execution_count": 40,
   "id": "a32ade9f-1577-43b5-8ec2-a9e8e55f3595",
   "metadata": {},
   "outputs": [
    {
     "data": {
      "text/plain": [
       "USD    0.000000\n",
       "JPY    0.011848\n",
       "EUR    0.006804\n",
       "GBP    0.000067\n",
       "MXN   -0.047915\n",
       "CHF    0.013081\n",
       "dtype: float64"
      ]
     },
     "execution_count": 40,
     "metadata": {},
     "output_type": "execute_result"
    }
   ],
   "source": [
    "erfr.mean()*252"
   ]
  },
  {
   "cell_type": "markdown",
   "id": "ef06a36b-daa1-443d-99ee-e3dd093f2c60",
   "metadata": {},
   "source": [
    "a) Expect relative strengthening of USD over Mexican Peso as UIP claims that the amount you earn from difference between risk free rate is then offsetted by that currency's depreciation.\n",
    "\n",
    "b) JPY, EUR, GBP, CHF is the currency with lower risk free rate thus, UIP will argue that this currency must appreciate relative to USD on average.\n",
    "\n",
    "c) It is strongest among GBP but r^2 is so low that we cannot really say it has predictability on the next day. "
   ]
  },
  {
   "cell_type": "markdown",
   "id": "ff2064d4-c125-4934-9d3f-8077928c95e0",
   "metadata": {},
   "source": [
    "3.4 The Dynamic Carry Trade"
   ]
  },
  {
   "cell_type": "code",
   "execution_count": 45,
   "id": "e5afbe11-3bc7-4b0c-8701-d100b2c77fec",
   "metadata": {},
   "outputs": [
    {
     "data": {
      "text/plain": [
       "JPY   -0.001042\n",
       "EUR   -0.001501\n",
       "GBP   -0.001201\n",
       "MXN   -0.003478\n",
       "CHF    0.000176\n",
       "Name: Alpha, dtype: float64"
      ]
     },
     "execution_count": 45,
     "metadata": {},
     "output_type": "execute_result"
    }
   ],
   "source": [
    "forecast_df.loc['Alpha']"
   ]
  },
  {
   "cell_type": "code",
   "execution_count": 66,
   "id": "4a31dfde-faec-4edf-b07a-d0e3abecb883",
   "metadata": {},
   "outputs": [
    {
     "data": {
      "text/html": [
       "<div>\n",
       "<style scoped>\n",
       "    .dataframe tbody tr th:only-of-type {\n",
       "        vertical-align: middle;\n",
       "    }\n",
       "\n",
       "    .dataframe tbody tr th {\n",
       "        vertical-align: top;\n",
       "    }\n",
       "\n",
       "    .dataframe thead th {\n",
       "        text-align: right;\n",
       "    }\n",
       "</style>\n",
       "<table border=\"1\" class=\"dataframe\">\n",
       "  <thead>\n",
       "    <tr style=\"text-align: right;\">\n",
       "      <th></th>\n",
       "      <th>USD</th>\n",
       "      <th>JPY</th>\n",
       "      <th>EUR</th>\n",
       "      <th>GBP</th>\n",
       "      <th>MXN</th>\n",
       "      <th>CHF</th>\n",
       "    </tr>\n",
       "    <tr>\n",
       "      <th>date</th>\n",
       "      <th></th>\n",
       "      <th></th>\n",
       "      <th></th>\n",
       "      <th></th>\n",
       "      <th></th>\n",
       "      <th></th>\n",
       "    </tr>\n",
       "  </thead>\n",
       "  <tbody>\n",
       "    <tr>\n",
       "      <th>2008-01-01</th>\n",
       "      <td>0.0</td>\n",
       "      <td>0.000156</td>\n",
       "      <td>0.000006</td>\n",
       "      <td>-0.000052</td>\n",
       "      <td>-0.000123</td>\n",
       "      <td>0.000093</td>\n",
       "    </tr>\n",
       "    <tr>\n",
       "      <th>2008-01-02</th>\n",
       "      <td>0.0</td>\n",
       "      <td>0.000146</td>\n",
       "      <td>0.000022</td>\n",
       "      <td>-0.000052</td>\n",
       "      <td>-0.000133</td>\n",
       "      <td>0.000083</td>\n",
       "    </tr>\n",
       "    <tr>\n",
       "      <th>2008-01-03</th>\n",
       "      <td>0.0</td>\n",
       "      <td>0.000153</td>\n",
       "      <td>0.000016</td>\n",
       "      <td>-0.000050</td>\n",
       "      <td>-0.000125</td>\n",
       "      <td>0.000087</td>\n",
       "    </tr>\n",
       "    <tr>\n",
       "      <th>2008-01-04</th>\n",
       "      <td>0.0</td>\n",
       "      <td>0.000148</td>\n",
       "      <td>0.000006</td>\n",
       "      <td>-0.000051</td>\n",
       "      <td>-0.000130</td>\n",
       "      <td>0.000084</td>\n",
       "    </tr>\n",
       "    <tr>\n",
       "      <th>2008-01-07</th>\n",
       "      <td>0.0</td>\n",
       "      <td>0.000148</td>\n",
       "      <td>0.000005</td>\n",
       "      <td>-0.000049</td>\n",
       "      <td>-0.000130</td>\n",
       "      <td>0.000087</td>\n",
       "    </tr>\n",
       "  </tbody>\n",
       "</table>\n",
       "</div>"
      ],
      "text/plain": [
       "            USD       JPY       EUR       GBP       MXN       CHF\n",
       "date                                                             \n",
       "2008-01-01  0.0  0.000156  0.000006 -0.000052 -0.000123  0.000093\n",
       "2008-01-02  0.0  0.000146  0.000022 -0.000052 -0.000133  0.000083\n",
       "2008-01-03  0.0  0.000153  0.000016 -0.000050 -0.000125  0.000087\n",
       "2008-01-04  0.0  0.000148  0.000006 -0.000051 -0.000130  0.000084\n",
       "2008-01-07  0.0  0.000148  0.000005 -0.000049 -0.000130  0.000087"
      ]
     },
     "execution_count": 66,
     "metadata": {},
     "output_type": "execute_result"
    }
   ],
   "source": [
    "erfr.head()"
   ]
  },
  {
   "cell_type": "code",
   "execution_count": 68,
   "id": "c69d7661-f0b6-417f-a9f3-2640ff7025dc",
   "metadata": {},
   "outputs": [
    {
     "data": {
      "text/html": [
       "<div>\n",
       "<style scoped>\n",
       "    .dataframe tbody tr th:only-of-type {\n",
       "        vertical-align: middle;\n",
       "    }\n",
       "\n",
       "    .dataframe tbody tr th {\n",
       "        vertical-align: top;\n",
       "    }\n",
       "\n",
       "    .dataframe thead th {\n",
       "        text-align: right;\n",
       "    }\n",
       "</style>\n",
       "<table border=\"1\" class=\"dataframe\">\n",
       "  <thead>\n",
       "    <tr style=\"text-align: right;\">\n",
       "      <th></th>\n",
       "      <th>JPY</th>\n",
       "      <th>EUR</th>\n",
       "      <th>GBP</th>\n",
       "      <th>MXN</th>\n",
       "      <th>CHF</th>\n",
       "    </tr>\n",
       "    <tr>\n",
       "      <th>date</th>\n",
       "      <th></th>\n",
       "      <th></th>\n",
       "      <th></th>\n",
       "      <th></th>\n",
       "      <th></th>\n",
       "    </tr>\n",
       "  </thead>\n",
       "  <tbody>\n",
       "    <tr>\n",
       "      <th>2008-01-01</th>\n",
       "      <td>-0.001143</td>\n",
       "      <td>-0.001494</td>\n",
       "      <td>-0.001501</td>\n",
       "      <td>-0.003257</td>\n",
       "      <td>0.000168</td>\n",
       "    </tr>\n",
       "    <tr>\n",
       "      <th>2008-01-02</th>\n",
       "      <td>-0.001136</td>\n",
       "      <td>-0.001475</td>\n",
       "      <td>-0.001505</td>\n",
       "      <td>-0.003240</td>\n",
       "      <td>0.000169</td>\n",
       "    </tr>\n",
       "    <tr>\n",
       "      <th>2008-01-03</th>\n",
       "      <td>-0.001141</td>\n",
       "      <td>-0.001482</td>\n",
       "      <td>-0.001490</td>\n",
       "      <td>-0.003254</td>\n",
       "      <td>0.000168</td>\n",
       "    </tr>\n",
       "    <tr>\n",
       "      <th>2008-01-04</th>\n",
       "      <td>-0.001138</td>\n",
       "      <td>-0.001494</td>\n",
       "      <td>-0.001497</td>\n",
       "      <td>-0.003245</td>\n",
       "      <td>0.000168</td>\n",
       "    </tr>\n",
       "    <tr>\n",
       "      <th>2008-01-07</th>\n",
       "      <td>-0.001138</td>\n",
       "      <td>-0.001495</td>\n",
       "      <td>-0.001487</td>\n",
       "      <td>-0.003245</td>\n",
       "      <td>0.000168</td>\n",
       "    </tr>\n",
       "  </tbody>\n",
       "</table>\n",
       "</div>"
      ],
      "text/plain": [
       "                 JPY       EUR       GBP       MXN       CHF\n",
       "date                                                        \n",
       "2008-01-01 -0.001143 -0.001494 -0.001501 -0.003257  0.000168\n",
       "2008-01-02 -0.001136 -0.001475 -0.001505 -0.003240  0.000169\n",
       "2008-01-03 -0.001141 -0.001482 -0.001490 -0.003254  0.000168\n",
       "2008-01-04 -0.001138 -0.001494 -0.001497 -0.003245  0.000168\n",
       "2008-01-07 -0.001138 -0.001495 -0.001487 -0.003245  0.000168"
      ]
     },
     "execution_count": 68,
     "metadata": {},
     "output_type": "execute_result"
    }
   ],
   "source": [
    "exp_ret = erfr.iloc[:,1:].apply(lambda x:forecast_df.loc['Alpha']+(forecast_df.loc['Beta']-1)*x,axis=1)\n",
    "exp_ret.head()"
   ]
  },
  {
   "cell_type": "code",
   "execution_count": 74,
   "id": "272bd991-f436-4f5b-8faf-8240133f8a40",
   "metadata": {},
   "outputs": [
    {
     "name": "stdout",
     "output_type": "stream",
     "text": [
      "     Positive Count  Negative Count\n",
      "JPY               0            4393\n",
      "EUR               0            4393\n",
      "GBP               0            4393\n",
      "MXN               0            4393\n",
      "CHF            4393               0\n"
     ]
    }
   ],
   "source": [
    "positive_counts = (exp_ret > 0).sum()\n",
    "negative_counts = (exp_ret < 0).sum()\n",
    "\n",
    "result = pd.DataFrame({'Positive Count': positive_counts, 'Negative Count': negative_counts})\n",
    "\n",
    "print(result)"
   ]
  },
  {
   "cell_type": "markdown",
   "id": "6e3565aa-a051-43b9-91e0-b7a0c34a87dc",
   "metadata": {},
   "source": [
    "2. CHF has positive FX risk premium and every currency besides CHF eqally go to negative.\n",
    "\n",
    "3. Buy CHF sell USD/CHF fwd."
   ]
  },
  {
   "cell_type": "code",
   "execution_count": null,
   "id": "2fcc02a8-b8b8-4f35-997e-5d5158baff90",
   "metadata": {},
   "outputs": [],
   "source": []
  }
 ],
 "metadata": {
  "kernelspec": {
   "display_name": "Python 3 (ipykernel)",
   "language": "python",
   "name": "python3"
  },
  "language_info": {
   "codemirror_mode": {
    "name": "ipython",
    "version": 3
   },
   "file_extension": ".py",
   "mimetype": "text/x-python",
   "name": "python",
   "nbconvert_exporter": "python",
   "pygments_lexer": "ipython3",
   "version": "3.12.4"
  }
 },
 "nbformat": 4,
 "nbformat_minor": 5
}
